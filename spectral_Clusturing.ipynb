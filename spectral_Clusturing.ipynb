{
  "nbformat": 4,
  "nbformat_minor": 0,
  "metadata": {
    "colab": {
      "name": "Untitled3.ipynb",
      "provenance": []
    },
    "kernelspec": {
      "name": "python3",
      "display_name": "Python 3"
    }
  },
  "cells": [
    {
      "cell_type": "code",
      "metadata": {
        "id": "PPyScHuv9M2z"
      },
      "source": [
        "import cv2\n",
        "import numpy as np\n",
        "import matplotlib.pyplot as plt\n",
        "import networkx as nx\n",
        "import pandas as pd \n",
        "import matplotlib.pyplot as plt \n",
        "from sklearn.cluster import SpectralClustering \n",
        "from sklearn.preprocessing import StandardScaler, normalize \n",
        "from sklearn.decomposition import PCA \n",
        "from sklearn.metrics import silhouette_score \n",
        "from sklearn import metrics\n",
        "np.random.seed(1)\n",
        "from google.colab.patches import cv2_imshow\n",
        "from sklearn.metrics import pairwise_distances"
      ],
      "execution_count": 95,
      "outputs": []
    },
    {
      "cell_type": "code",
      "metadata": {
        "colab": {
          "base_uri": "https://localhost:8080/",
          "height": 775
        },
        "id": "YXgbc9K6-YYC",
        "outputId": "ebf20bf9-6d25-4356-b887-de9f43aab400"
      },
      "source": [
        "img = cv2.imread(\"Mukul.png\",1)\n",
        "#Read a gray scale image\n",
        "im_gray = cv2.imread('Mukul.png', cv2.IMREAD_GRAYSCALE)\n",
        "#Convert gray scale image to binary\n",
        "(thresh, im_bw) = cv2.threshold(im_gray, 127, 255, cv2.THRESH_BINARY , cv2.THRESH_OTSU)\n",
        "cv2_imshow(im_bw)\n",
        "print(im_bw)\n"
      ],
      "execution_count": 112,
      "outputs": [
        {
          "output_type": "display_data",
          "data": {
            "image/png": "[encoded data removed]",
            "text/plain": [
              "<PIL.Image.Image image mode=L size=1169x735 at 0x7F2FDFA272E8>"
            ]
          },
          "metadata": {
            "tags": []
          }
        },
        {
          "output_type": "stream",
          "text": [
            "[[255 255 255 ... 255 255 255]\n",
            " [255 255 255 ... 255 255 255]\n",
            " [255 255 255 ... 255 255 255]\n",
            " ...\n",
            " [255 255 255 ... 255 255 255]\n",
            " [255 255 255 ... 255 255 255]\n",
            " [255 255 255 ... 255 255 255]]\n"
          ],
          "name": "stdout"
        }
      ]
    },
    {
      "cell_type": "code",
      "metadata": {
        "colab": {
          "base_uri": "https://localhost:8080/",
          "height": 282
        },
        "id": "M6utA_2A-dh5",
        "outputId": "f666fa01-3c6c-4d16-dfb6-44da0d701cad"
      },
      "source": [
        "#creating data sets \n",
        "rows = im_bw.shape[0]\n",
        "cols = im_bw.shape[1]\n",
        "\n",
        "L1 = []\n",
        "for i in range(0,734,2):\n",
        "  for j in range(0,1168,2):\n",
        "     if(im_bw[i][j]==0):\n",
        "        L1.append([j,-i])\n",
        "\n",
        " \n",
        "\n",
        "plt.scatter(*zip(*L1))\n"
      ],
      "execution_count": 113,
      "outputs": [
        {
          "output_type": "execute_result",
          "data": {
            "text/plain": [
              "<matplotlib.collections.PathCollection at 0x7f2fdf4619b0>"
            ]
          },
          "metadata": {
            "tags": []
          },
          "execution_count": 113
        },
        {
          "output_type": "display_data",
          "data": {
            "image/png": "[encoded data removed]",
            "text/plain": [
              "<Figure size 432x288 with 1 Axes>"
            ]
          },
          "metadata": {
            "tags": [],
            "needs_background": "light"
          }
        }
      ]
    },
    {
      "cell_type": "code",
      "metadata": {
        "colab": {
          "base_uri": "https://localhost:8080/"
        },
        "id": "wGdE2kNz_Xt9",
        "outputId": "36eb25b3-61e2-4609-e67c-e76841521cfb"
      },
      "source": [
        "X = np.array(L1)\n",
        "W = pairwise_distances(X, metric=\"euclidean\")\n",
        "\n",
        "\n",
        "for i in range(W.shape[0]):\n",
        "  for j in range(W.shape[1]):\n",
        "    if(W[i][j]<= 42 and i!=j):\n",
        "      W[i][j] = 1\n",
        "    else :\n",
        "      W[i][j] = 0\n",
        "\n",
        "print(W)\n",
        "   "
      ],
      "execution_count": 156,
      "outputs": [
        {
          "output_type": "stream",
          "text": [
            "[[0. 1. 1. ... 0. 0. 0.]\n",
            " [1. 0. 1. ... 0. 0. 0.]\n",
            " [1. 1. 0. ... 0. 0. 0.]\n",
            " ...\n",
            " [0. 0. 0. ... 0. 1. 1.]\n",
            " [0. 0. 0. ... 1. 0. 1.]\n",
            " [0. 0. 0. ... 1. 1. 0.]]\n"
          ],
          "name": "stdout"
        }
      ]
    },
    {
      "cell_type": "code",
      "metadata": {
        "colab": {
          "base_uri": "https://localhost:8080/"
        },
        "id": "CWWy6WbdCIb0",
        "outputId": "8d3e4355-3a10-4b1a-c368-1ac2493380cf"
      },
      "source": [
        "\n",
        "# degree matrix\n",
        "D = np.diag(np.sum(W,axis = 1).tolist())\n",
        "print('degree matrix:')\n",
        "print(D)\n",
        "# laplacian matrix\n",
        "L = D - W\n",
        "print('laplacian matrix:')\n",
        "print(L)"
      ],
      "execution_count": 157,
      "outputs": [
        {
          "output_type": "stream",
          "text": [
            "degree matrix:\n",
            "[[83.  0.  0. ...  0.  0.  0.]\n",
            " [ 0. 84.  0. ...  0.  0.  0.]\n",
            " [ 0.  0. 85. ...  0.  0.  0.]\n",
            " ...\n",
            " [ 0.  0.  0. ... 74.  0.  0.]\n",
            " [ 0.  0.  0. ...  0. 72.  0.]\n",
            " [ 0.  0.  0. ...  0.  0. 70.]]\n",
            "laplacian matrix:\n",
            "[[83. -1. -1. ...  0.  0.  0.]\n",
            " [-1. 84. -1. ...  0.  0.  0.]\n",
            " [-1. -1. 85. ...  0.  0.  0.]\n",
            " ...\n",
            " [ 0.  0.  0. ... 74. -1. -1.]\n",
            " [ 0.  0.  0. ... -1. 72. -1.]\n",
            " [ 0.  0.  0. ... -1. -1. 70.]]\n"
          ],
          "name": "stdout"
        }
      ]
    },
    {
      "cell_type": "code",
      "metadata": {
        "colab": {
          "base_uri": "https://localhost:8080/"
        },
        "id": "wO0apEcnCNsc",
        "outputId": "c6dc7201-8455-4e15-e15a-d74df8e144f1"
      },
      "source": [
        "e, v = np.linalg.eigh(L)\n",
        "# eigenvalues\n",
        "print('eigenvalues:')\n",
        "print(e)\n",
        "# eigenvectors\n",
        "print('eigenvectors:')\n",
        "print(v)\n",
        "\n"
      ],
      "execution_count": 158,
      "outputs": [
        {
          "output_type": "stream",
          "text": [
            "eigenvalues:\n",
            "[-2.38879859e-14 -4.88288340e-15 -4.60984323e-15 ...  1.82474620e+02\n",
            "  1.83066736e+02  1.85701259e+02]\n",
            "eigenvectors:\n",
            "[[-2.23178354e-19  0.00000000e+00  4.85071250e-02 ...  1.28643173e-18\n",
            "   8.68492190e-18  5.33678530e-19]\n",
            " [-2.31101497e-17  0.00000000e+00  4.85071250e-02 ... -7.53825504e-17\n",
            "  -7.34481948e-17 -6.74096806e-17]\n",
            " [ 1.70991520e-17  0.00000000e+00  4.85071250e-02 ...  3.50375191e-17\n",
            "  -6.85405506e-17 -2.36777395e-17]\n",
            " ...\n",
            " [ 0.00000000e+00  8.21260147e-28  0.00000000e+00 ...  0.00000000e+00\n",
            "   0.00000000e+00  0.00000000e+00]\n",
            " [ 0.00000000e+00  8.10316761e-28  0.00000000e+00 ...  0.00000000e+00\n",
            "   0.00000000e+00  0.00000000e+00]\n",
            " [ 0.00000000e+00  7.99472556e-28  0.00000000e+00 ...  0.00000000e+00\n",
            "   0.00000000e+00  0.00000000e+00]]\n"
          ],
          "name": "stdout"
        }
      ]
    },
    {
      "cell_type": "code",
      "metadata": {
        "colab": {
          "base_uri": "https://localhost:8080/"
        },
        "id": "qvfMUM40CVqA",
        "outputId": "b7d52627-9108-4069-f396-586f4df082c2"
      },
      "source": [
        "\n",
        "for i in range(50):\n",
        "  print(e[i])"
      ],
      "execution_count": 159,
      "outputs": [
        {
          "output_type": "stream",
          "text": [
            "-2.388798594842514e-14\n",
            "-4.88288339534359e-15\n",
            "-4.609843225140942e-15\n",
            "1.1992743463701229e-14\n",
            "1.6028223503326756e-14\n",
            "2.227121613483031e-14\n",
            "1.26317067099272\n",
            "1.5254088260890246\n",
            "1.735166113277165\n",
            "1.9473391408672052\n",
            "2.988264861572432\n",
            "3.232154515492863\n",
            "3.693505920615335\n",
            "3.8864199250401\n",
            "4.36850202522086\n",
            "5.732073764637819\n",
            "6.042720513553867\n",
            "7.672727240808891\n",
            "10.066729149348633\n",
            "10.07983703966505\n",
            "12.173696611240478\n",
            "12.260229428771892\n",
            "13.056725823220395\n",
            "13.418800089909627\n",
            "13.616625510908953\n",
            "14.40081276751491\n",
            "16.81739430218315\n",
            "21.411166333457334\n",
            "21.61935060407739\n",
            "24.036805907216063\n",
            "26.079391119290577\n",
            "26.469555273947186\n",
            "27.425253801822702\n",
            "28.648062068381293\n",
            "28.75798064238069\n",
            "29.28223989336704\n",
            "30.56104902063367\n",
            "31.79052448559115\n",
            "37.93352868273133\n",
            "38.781590487420175\n",
            "39.28878806427877\n",
            "39.530443003972515\n",
            "39.999999999999936\n",
            "40.92768006794509\n",
            "41.041658626171454\n",
            "41.98620009583819\n",
            "41.99999999999999\n",
            "42.06843557227916\n",
            "42.61036674713131\n",
            "42.826439862795986\n"
          ],
          "name": "stdout"
        }
      ]
    },
    {
      "cell_type": "code",
      "metadata": {
        "colab": {
          "base_uri": "https://localhost:8080/",
          "height": 297
        },
        "id": "w1OXeLspCjQN",
        "outputId": "e4462243-597b-435e-c4ef-085cf1057b7d"
      },
      "source": [
        "fig = plt.figure()\n",
        "ax1 = plt.subplot(121)\n",
        "plt.plot(e)\n",
        "ax1.title.set_text('eigenvalues')\n",
        "i = np.where(e < 10e-15)[0]\n",
        "ax2 = plt.subplot(122)\n",
        "plt.plot(v[:, i[0]])\n",
        "fig.tight_layout()\n",
        "plt.show()"
      ],
      "execution_count": 160,
      "outputs": [
        {
          "output_type": "display_data",
          "data": {
            "image/png": "[encoded data removed]",
            "text/plain": [
              "<Figure size 432x288 with 2 Axes>"
            ]
          },
          "metadata": {
            "tags": [],
            "needs_background": "light"
          }
        }
      ]
    },
    {
      "cell_type": "code",
      "metadata": {
        "colab": {
          "base_uri": "https://localhost:8080/"
        },
        "id": "MMAbBjHXCq9Z",
        "outputId": "8b996c2a-e133-425c-f032-7d3bbe795f5b"
      },
      "source": [
        "# we use k-means to classify the nodes based off their corresponding values in the eigenvector.\n",
        "\n",
        "k=6\n",
        "Q = np.zeros((len(L1),k))\n",
        "for i in range(len(L1)):\n",
        "  for j in range(k):\n",
        "    Q[i][j] = v[i][j]\n",
        "\n",
        "import random\n",
        "means = np.zeros((k,k))\n",
        "for i in range(k):\n",
        "    means[i] = Q[random.randint(0,len(L1))]\n",
        "print(means)\n",
        "\n",
        "def dist(p1 ,p2 ,dimension):\n",
        "  res = 0;\n",
        "  for i in range(dimension):\n",
        "    res += (p1[i]-p2[i])**2\n",
        "  return res\n",
        "\n",
        "\n"
      ],
      "execution_count": 186,
      "outputs": [
        {
          "output_type": "stream",
          "text": [
            "[[ 0.00000000e+00 -4.18853908e-02  0.00000000e+00  0.00000000e+00\n",
            "   2.33793093e-17  0.00000000e+00]\n",
            " [ 0.00000000e+00  1.79749831e-17  0.00000000e+00  4.78364873e-02\n",
            "   1.98292284e-19  0.00000000e+00]\n",
            " [-4.11345035e-02  0.00000000e+00  0.00000000e+00  0.00000000e+00\n",
            "   0.00000000e+00  0.00000000e+00]\n",
            " [ 0.00000000e+00 -6.87909391e-28  0.00000000e+00  0.00000000e+00\n",
            "   4.56911662e-02  0.00000000e+00]\n",
            " [ 2.96311693e-17  0.00000000e+00  4.85071250e-02  0.00000000e+00\n",
            "   0.00000000e+00  0.00000000e+00]\n",
            " [ 0.00000000e+00 -5.62573172e-18  0.00000000e+00  1.95230133e-17\n",
            "   4.46758286e-19  4.24094465e-02]]\n"
          ],
          "name": "stdout"
        }
      ]
    },
    {
      "cell_type": "code",
      "metadata": {
        "id": "qfkL4DwZGyhC"
      },
      "source": [
        "clusters = np.zeros(len(L1))\n",
        "group = np.zeros(k)\n",
        "flag = False\n",
        "iteration = 0\n",
        "\n",
        "while(flag==False):\n",
        "  \n",
        "  iteration += 1\n",
        "  newmean = np.zeros((k,k))\n",
        "  countmean = np.zeros(k)\n",
        "\n",
        "  for i in range(len(L1)):\n",
        "    for j in range(k):\n",
        "      group[j] = dist(Q[i],means[j],k)\n",
        "    index = 0\n",
        "    for j in range(k):\n",
        "      if(group[j]<group[index]):\n",
        "        index = j\n",
        "    clusters[i] = index\n",
        "    newmean[index]+=Q[i]\n",
        "    countmean[index]+=1\n",
        "\n",
        "  newmean = (newmean.transpose()/countmean).transpose()\n",
        "  comparison = newmean == means\n",
        "  flag = comparison.all()\n",
        "  means = newmean\n",
        "  if(iteration>5000):\n",
        "    flag = True"
      ],
      "execution_count": 187,
      "outputs": []
    },
    {
      "cell_type": "code",
      "metadata": {
        "id": "rU3EmvqGHgvu"
      },
      "source": [
        "# implementing spectral clusterings\n",
        "cluster1=[]\n",
        "cluster2=[]\n",
        "cluster3=[]\n",
        "cluster4=[]\n",
        "cluster5=[]\n",
        "cluster6=[]\n",
        "#cluster7=[]\n",
        "cc1=0\n",
        "cc2=0\n",
        "cc3=0\n",
        "cc4=0\n",
        "cc5=0\n",
        "cc6=0\n",
        "#cc7=0\n",
        "c=0\n",
        "for i in clusters:\n",
        "  if(i==0):\n",
        "    cluster1.insert(cc1,L1[c])\n",
        "    cc1+=1\n",
        "  if(i==1):\n",
        "    cluster2.insert(cc2,L1[c])\n",
        "    cc2+=1\n",
        "  if(i==2):\n",
        "    cluster3.insert(cc3,L1[c])\n",
        "    cc3+=1\n",
        "  if(i==3):\n",
        "    cluster4.insert(cc4,L1[c])\n",
        "    cc4+=1\n",
        "  if(i==4):\n",
        "    cluster5.insert(cc5,L1[c])\n",
        "    cc5+=1\n",
        "  if(i==5):\n",
        "    cluster6.insert(cc6,L1[c])\n",
        "    cc6+=1\n",
        "  c+=1"
      ],
      "execution_count": 188,
      "outputs": []
    },
    {
      "cell_type": "code",
      "metadata": {
        "colab": {
          "base_uri": "https://localhost:8080/"
        },
        "id": "O15W95UMHtAe",
        "outputId": "c9a7f2f3-72dd-4206-9cf2-6f1426afde06"
      },
      "source": [
        "print(c,cc1,cc2,cc3,cc4,cc5,cc6)\n"
      ],
      "execution_count": 189,
      "outputs": [
        {
          "output_type": "stream",
          "text": [
            "3058 570 437 591 479 425 556\n"
          ],
          "name": "stdout"
        }
      ]
    },
    {
      "cell_type": "code",
      "metadata": {
        "colab": {
          "base_uri": "https://localhost:8080/",
          "height": 282
        },
        "id": "WQ0jHkaoHvIh",
        "outputId": "a8efea4f-4aae-4dcc-c6cb-1a5d39faf76a"
      },
      "source": [
        "plt.scatter(*zip(*cluster1), color = 'red')\n",
        "plt.scatter(*zip(*cluster2), color = 'blue')\n",
        "plt.scatter(*zip(*cluster3), color = 'green')\n",
        "plt.scatter(*zip(*cluster4), color = 'cyan')\n",
        "plt.scatter(*zip(*cluster5), color = 'black')\n",
        "plt.scatter(*zip(*cluster6), color = 'yellow')\n",
        "#plt.scatter(*zip(*cluster7), color = 'brown')"
      ],
      "execution_count": 190,
      "outputs": [
        {
          "output_type": "execute_result",
          "data": {
            "text/plain": [
              "<matplotlib.collections.PathCollection at 0x7f2fdef8a400>"
            ]
          },
          "metadata": {
            "tags": []
          },
          "execution_count": 190
        },
        {
          "output_type": "display_data",
          "data": {
            "image/png": "[encoded data removed]",
            "text/plain": [
              "<Figure size 432x288 with 1 Axes>"
            ]
          },
          "metadata": {
            "tags": [],
            "needs_background": "light"
          }
        }
      ]
    },
    {
      "cell_type": "code",
      "metadata": {
        "id": "gJg-HsyvMVId"
      },
      "source": [
        "\n"
      ],
      "execution_count": 190,
      "outputs": []
    }
  ]
}